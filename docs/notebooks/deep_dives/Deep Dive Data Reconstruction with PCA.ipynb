{
 "cells": [
  {
   "cell_type": "markdown",
   "source": [
    "# Data reconstruction with PCA"
   ],
   "metadata": {
    "collapsed": false
   }
  },
  {
   "cell_type": "code",
   "execution_count": null,
   "id": "50320404",
   "metadata": {},
   "outputs": [],
   "source": [
    "import numpy as np\n",
    "import pandas as pd\n",
    "import matplotlib.pyplot as plt\n",
    "import seaborn as sns\n",
    "import nannyml as nml\n",
    "\n",
    "from scipy.spatial.transform import Rotation\n",
    "from sklearn.datasets import make_classification\n",
    "\n",
    "# 10 reference periods\n",
    "# 10 analysis periods\n",
    "# Days/week * Hours/day * events/hour\n",
    "DPP = 7*24*12\n",
    "\n",
    "np.random.seed(23)\n",
    "s1 = np.random.randn(DPP*20)\n",
    "x1 = s1 + np.random.randn(DPP*20)/8\n",
    "x2 = s1 + np.random.randn(DPP*20)/8\n",
    "x3 = np.random.randn(DPP*20)/8\n",
    "xdat = np.array([x1, x2, x3]).T\n",
    "rot = Rotation.from_euler('z', 90, degrees=True)\n",
    "\n",
    "# following matrix multiplication implementation, we need a 3xN data matrix hence we transpose\n",
    "ydat = np.matmul(rot.as_matrix(), xdat.T).T\n",
    "\n",
    "# create overall array that has drifted and not drifted subsets.\n",
    "# drift is sudden and affects last 5 weeks\n",
    "dataar = np.concatenate(\n",
    "    (xdat[:-5*DPP], ydat[-5*DPP:]),\n",
    "    axis=0\n",
    ")\n",
    "\n",
    "# convert data to dataframe\n",
    "datadf = pd.DataFrame(dataar, columns=['f1', 'f2', 'f3'])\n",
    "\n",
    "# add \"timestamp\" column\n",
    "datadf = datadf.assign(ordered = pd.date_range(start='1/6/2020', freq='5min', periods=20*DPP))\n",
    "\n",
    "# Adding helper column - duplicates date range functionality\n",
    "datadf['week'] = datadf.ordered.dt.isocalendar().week - 1\n",
    "# Adding partition column\n",
    "datadf['partition'] = 'reference'\n",
    "datadf.loc[datadf.week >= 11, ['partition']] = 'analysis'\n",
    "\n",
    "# Assign random predictions and targets (we won't be using them but they are needed for NannyML)\n",
    "datadf = datadf.assign(y_pred = np.random.rand(DPP*20))\n",
    "datadf = datadf.assign(y_true = np.random.randint(2, size=DPP*20))"
   ]
  },
  {
   "cell_type": "code",
   "execution_count": null,
   "id": "582364b4",
   "metadata": {},
   "outputs": [],
   "source": [
    "datadf"
   ]
  },
  {
   "cell_type": "code",
   "execution_count": null,
   "id": "29968837",
   "metadata": {},
   "outputs": [],
   "source": [
    "dat1 = datadf.loc[datadf.week == 10, ['f1', 'f2']][:1500]\n",
    "dat1['week'] = 10\n",
    "dat2 = datadf.loc[datadf.week == 16, ['f1', 'f2']][:1500]\n",
    "dat2['week'] = 16\n",
    "data_sample = pd.concat([dat1, dat2], ignore_index=True)\n",
    "\n",
    "# let's plot\n",
    "colors = nml.plots.colors.Colors\n",
    "figure = sns.jointplot(\n",
    "    data=data_sample,\n",
    "    x=\"f1\",\n",
    "    y=\"f2\",\n",
    "    hue=\"week\",\n",
    "    palette=[colors.BLUE_SKY_CRAYOLA.value, colors.RED_IMPERIAL.value]\n",
    ")\n",
    "figure.fig.suptitle('Data Distributions before and after rotation drift')\n",
    "figure.savefig('butterfly-scatterplot.svg')"
   ]
  },
  {
   "cell_type": "code",
   "execution_count": null,
   "id": "79a108a2",
   "metadata": {
    "scrolled": true
   },
   "outputs": [],
   "source": [
    "# Let's first create the analysis and reference datasets NannyML needs.\n",
    "reference = datadf.loc[datadf['partition'] == 'reference'].reset_index(drop=True)\n",
    "reference.drop(['week'], axis=1, inplace=True)\n",
    "analysis = datadf.loc[datadf['partition'] == 'analysis'].reset_index(drop=True)\n",
    "analysis.drop(['y_true', 'week'], axis=1, inplace=True)\n",
    "data = pd.concat([reference, analysis], ignore_index=True)\n",
    "\n",
    "# Let's create the model metadata object\n",
    "metadata = nml.extract_metadata(data = reference, model_name='3d_rotation')\n",
    "metadata.identifier_column_name = 'ordered'\n",
    "metadata.timestamp_column_name = 'ordered'\n",
    "metadata.target_column_name = 'y_true'\n",
    "\n",
    "# Let's compute univariate drift\n",
    "univariate_calculator = nml.UnivariateStatisticalDriftCalculator(model_metadata=metadata, chunk_size=DPP)\n",
    "univariate_calculator.fit(reference_data=reference)\n",
    "# let's compute (and visualize) results across all the dataset.\n",
    "univariate_results = univariate_calculator.calculate(data=data)\n",
    "\n",
    "# let's create plot with results\n",
    "plots = nml.DriftPlots(model_metadata=univariate_calculator.model_metadata, chunker=univariate_calculator.chunker)\n",
    "for feature in metadata.features:\n",
    "    figure = plots.plot_univariate_statistical_drift(univariate_results, metric='statistic', feature_label=feature.label)\n",
    "    figure.show()\n",
    "    figure.write_image(file=f\"butterfly-univariate-drift-{feature.label}.svg\")"
   ]
  },
  {
   "cell_type": "code",
   "execution_count": null,
   "id": "55b79705",
   "metadata": {
    "scrolled": true
   },
   "outputs": [],
   "source": [
    "for feature in metadata.continuous_features:\n",
    "    figure = plots.plot_continuous_feature_distribution_over_time(\n",
    "        data=data,\n",
    "        drift_results=univariate_results,\n",
    "        feature_label=feature.label\n",
    "    )\n",
    "    figure.show()\n",
    "    figure.write_image(file=f\"butterfly-univariate-drift-joyplot-{feature.label}.svg\")"
   ]
  },
  {
   "cell_type": "code",
   "execution_count": null,
   "id": "c6b37ff0",
   "metadata": {},
   "outputs": [],
   "source": [
    "# Let's compute univariate drift\n",
    "rcerror_calculator = nml.DataReconstructionDriftCalculator(model_metadata=metadata, chunk_size=DPP)\n",
    "rcerror_calculator.fit(reference_data=reference)\n",
    "# let's compute (and visualize) results across all the dataset.\n",
    "rcerror_results = rcerror_calculator.calculate(data=data)\n",
    "\n",
    "# let's create plot with results\n",
    "figure = plots.plot_data_reconstruction_drift(rcerror_results)\n",
    "figure.show()\n",
    "figure.write_image(file=f\"butterfly-multivariate-drift.svg\")"
   ]
  },
  {
   "cell_type": "code",
   "execution_count": null,
   "id": "aaaef34c",
   "metadata": {},
   "outputs": [],
   "source": []
  }
 ],
 "metadata": {
  "kernelspec": {
   "display_name": "Python 3 (ipykernel)",
   "language": "python",
   "name": "python3"
  },
  "language_info": {
   "codemirror_mode": {
    "name": "ipython",
    "version": 3
   },
   "file_extension": ".py",
   "mimetype": "text/x-python",
   "name": "python",
   "nbconvert_exporter": "python",
   "pygments_lexer": "ipython3",
   "version": "3.10.2"
  }
 },
 "nbformat": 4,
 "nbformat_minor": 5
}
