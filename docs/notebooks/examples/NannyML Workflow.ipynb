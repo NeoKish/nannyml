{
 "cells": [
  {
   "cell_type": "markdown",
   "id": "09b4473d",
   "metadata": {},
   "source": [
    "# NannyML Workflow"
   ]
  },
  {
   "cell_type": "code",
   "execution_count": null,
   "id": "1d1b891e",
   "metadata": {},
   "outputs": [],
   "source": [
    "!rm *.svg\n",
    "!ls -la"
   ]
  },
  {
   "cell_type": "code",
   "execution_count": null,
   "id": "b4194064",
   "metadata": {},
   "outputs": [],
   "source": [
    "import nannyml as nml\n",
    "import pandas as pd"
   ]
  },
  {
   "cell_type": "code",
   "execution_count": null,
   "id": "a807771a",
   "metadata": {},
   "outputs": [],
   "source": [
    "nml.__version__"
   ]
  },
  {
   "cell_type": "code",
   "execution_count": null,
   "id": "4526776d",
   "metadata": {
    "scrolled": true
   },
   "outputs": [],
   "source": [
    "reference, analysis, analysis_target = nml.load_synthetic_sample()\n",
    "data = pd.concat([reference, analysis], ignore_index=True)\n",
    "print(reference.head().to_markdown(tablefmt=\"grid\"))"
   ]
  },
  {
   "cell_type": "code",
   "execution_count": null,
   "id": "344270ab",
   "metadata": {},
   "outputs": [],
   "source": [
    "print(analysis.tail().to_markdown(tablefmt=\"grid\"))"
   ]
  },
  {
   "cell_type": "code",
   "execution_count": null,
   "id": "c6144503",
   "metadata": {},
   "outputs": [],
   "source": [
    "# Let's use a chunk size of 5000\n",
    "chunk_size = 5000"
   ]
  },
  {
   "cell_type": "code",
   "execution_count": null,
   "id": "c4616d9a",
   "metadata": {},
   "outputs": [],
   "source": [
    "metadata = nml.extract_metadata(data = reference, model_name='wfh_predictor')\n",
    "metadata.target_column_name = 'work_home_actual'\n",
    "metadata.print()"
   ]
  },
  {
   "cell_type": "code",
   "execution_count": null,
   "id": "9e3510db",
   "metadata": {},
   "outputs": [],
   "source": [
    "# fit estimator and estimate\n",
    "estimator = nml.CBPE(model_metadata=metadata, chunk_size=chunk_size)\n",
    "estimator.fit(reference_data=reference)\n",
    "estimated_performance = estimator.estimate(data=data)"
   ]
  },
  {
   "cell_type": "code",
   "execution_count": null,
   "id": "ea898c18",
   "metadata": {},
   "outputs": [],
   "source": [
    "# show results\n",
    "plots = nml.PerformancePlots(model_metadata=metadata, chunker=estimator.chunker)\n",
    "figure = plots.plot_cbpe_performance_estimation(estimated_performance)\n",
    "figure.show()\n",
    "# figure.write_image(file=f\"perf-est-guide-syth-example.svg\")"
   ]
  },
  {
   "cell_type": "code",
   "execution_count": null,
   "id": "157624c8",
   "metadata": {},
   "outputs": [],
   "source": [
    "univariate_calculator = nml.UnivariateStatisticalDriftCalculator(model_metadata=metadata, chunk_size=chunk_size)"
   ]
  },
  {
   "cell_type": "code",
   "execution_count": null,
   "id": "943851b2",
   "metadata": {},
   "outputs": [],
   "source": [
    "univariate_calculator.fit(reference_data=reference)"
   ]
  },
  {
   "cell_type": "code",
   "execution_count": null,
   "id": "ae9cdd0d",
   "metadata": {},
   "outputs": [],
   "source": [
    "univariate_results = univariate_calculator.calculate(data=data)"
   ]
  },
  {
   "cell_type": "code",
   "execution_count": null,
   "id": "aefbb82a",
   "metadata": {},
   "outputs": [],
   "source": [
    "plots = nml.DriftPlots(model_metadata=univariate_calculator.model_metadata, chunker=univariate_calculator.chunker)"
   ]
  },
  {
   "cell_type": "code",
   "execution_count": null,
   "id": "9544adfe",
   "metadata": {
    "scrolled": true
   },
   "outputs": [],
   "source": [
    "for feature in metadata.features:\n",
    "\n",
    "    figure = plots.plot_univariate_statistical_drift(univariate_results, metric='statistic', feature_label=feature.label)\n",
    "    figure.show()\n",
    "#     figure.write_image(file=f\"drift-guide-{feature.label}.svg\")"
   ]
  },
  {
   "cell_type": "code",
   "execution_count": null,
   "id": "ceec08ad",
   "metadata": {
    "scrolled": true
   },
   "outputs": [],
   "source": [
    "for feature in metadata.continuous_features:\n",
    "\n",
    "    figure = plots.plot_continuous_feature_distribution_over_time(\n",
    "        data=pd.concat([reference, analysis], ignore_index=True),\n",
    "        drift_results=univariate_results,\n",
    "        feature_label=feature.label\n",
    "    )\n",
    "    figure.show()\n",
    "#     figure.write_image(file=f\"drift-guide-joyplot-{feature.label}.svg\")"
   ]
  },
  {
   "cell_type": "code",
   "execution_count": null,
   "id": "3582e6e6",
   "metadata": {
    "scrolled": true
   },
   "outputs": [],
   "source": [
    "for feature in metadata.categorical_features:\n",
    "\n",
    "    figure = plots.plot_categorical_feature_distribution_over_time(\n",
    "        data=pd.concat([reference, analysis], ignore_index=True),\n",
    "        drift_results=univariate_results,\n",
    "        feature_label=feature.label\n",
    "    )\n",
    "    figure.show()\n",
    "#     figure.write_image(file=f\"drift-guide-stacked-{feature.label}.svg\")"
   ]
  },
  {
   "cell_type": "code",
   "execution_count": null,
   "id": "b079a38c",
   "metadata": {},
   "outputs": [],
   "source": [
    "# see model output drift\n",
    "figure = plots.plot_univariate_statistical_prediction_drift(univariate_results, metric='statistic')\n",
    "figure.show()"
   ]
  },
  {
   "cell_type": "code",
   "execution_count": null,
   "id": "3750990e",
   "metadata": {},
   "outputs": [],
   "source": [
    "ranker = nml.Ranker.by('alert_count')\n",
    "ranked_features = ranker.rank(univariate_results, model_metadata=metadata, only_drifting = False)\n",
    "ranked_features"
   ]
  },
  {
   "cell_type": "code",
   "execution_count": null,
   "id": "d7bdc772",
   "metadata": {},
   "outputs": [],
   "source": [
    "print(ranked_features.to_markdown(tablefmt=\"grid\"))"
   ]
  },
  {
   "cell_type": "code",
   "execution_count": null,
   "id": "2d0cf3b3",
   "metadata": {},
   "outputs": [],
   "source": [
    "figure = plots.plot_univariate_statistical_prediction_drift(drift_results=univariate_results, metric='statistic')\n",
    "figure.show()\n",
    "figure.write_image('drift-guide-predictions.svg')"
   ]
  },
  {
   "cell_type": "code",
   "execution_count": null,
   "id": "a04cfaa4",
   "metadata": {},
   "outputs": [],
   "source": [
    "# Let's initialize the object that will perform Data Reconstruction with PCA\n",
    "# Let's use a chunk size of 5000 data points to create our drift statistics\n",
    "rcerror_calculator = nml.DataReconstructionDriftCalculator(model_metadata=metadata, chunk_size=chunk_size)"
   ]
  },
  {
   "cell_type": "code",
   "execution_count": null,
   "id": "2722ca94",
   "metadata": {},
   "outputs": [],
   "source": [
    "# NannyML compares drift versus the full reference dataset.\n",
    "rcerror_calculator.fit(reference_data=reference)"
   ]
  },
  {
   "cell_type": "code",
   "execution_count": null,
   "id": "4a7605f8",
   "metadata": {},
   "outputs": [],
   "source": [
    "# let's see RC error statistics for all available data\n",
    "rcerror_results = rcerror_calculator.calculate(data=data)"
   ]
  },
  {
   "cell_type": "code",
   "execution_count": null,
   "id": "406b6bcb",
   "metadata": {},
   "outputs": [],
   "source": [
    "print(rcerror_results.to_markdown(tablefmt=\"grid\"))"
   ]
  },
  {
   "cell_type": "code",
   "execution_count": null,
   "id": "cc7b3a9b",
   "metadata": {},
   "outputs": [],
   "source": [
    "figure = plots.plot_data_reconstruction_drift(drift_results=rcerror_results)\n",
    "figure.show()\n",
    "figure.write_image(file=f\"drift-guide-multivariate.svg\")"
   ]
  },
  {
   "cell_type": "code",
   "execution_count": null,
   "id": "bdd1825a",
   "metadata": {},
   "outputs": [],
   "source": [
    "figure = plots.plot_prediction_distribution_over_time(\n",
    "    data=data,\n",
    "    drift_results=univariate_results)\n",
    "figure.show()\n",
    "figure.write_image('drift-guide-predictions-joyplot.svg')"
   ]
  },
  {
   "cell_type": "code",
   "execution_count": null,
   "id": "2bd23455",
   "metadata": {},
   "outputs": [],
   "source": []
  },
  {
   "cell_type": "code",
   "execution_count": null,
   "id": "f17898ef",
   "metadata": {},
   "outputs": [],
   "source": []
  }
 ],
 "metadata": {
  "kernelspec": {
   "display_name": "Python 3 (ipykernel)",
   "language": "python",
   "name": "python3"
  },
  "language_info": {
   "codemirror_mode": {
    "name": "ipython",
    "version": 3
   },
   "file_extension": ".py",
   "mimetype": "text/x-python",
   "name": "python",
   "nbconvert_exporter": "python",
   "pygments_lexer": "ipython3",
   "version": "3.10.2"
  }
 },
 "nbformat": 4,
 "nbformat_minor": 5
}
