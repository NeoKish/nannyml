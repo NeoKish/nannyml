{
 "cells": [
  {
   "cell_type": "markdown",
   "id": "09b4473d",
   "metadata": {},
   "source": [
    "# NannyML Workflow"
   ]
  },
  {
   "cell_type": "code",
   "execution_count": null,
   "id": "1d1b891e",
   "metadata": {
    "scrolled": true
   },
   "outputs": [],
   "source": [
    "!rm *.svg\n",
    "!ls -la"
   ]
  },
  {
   "cell_type": "code",
   "execution_count": null,
   "id": "b4194064",
   "metadata": {
    "scrolled": true
   },
   "outputs": [],
   "source": [
    "import nannyml as nml\n",
    "import pandas as pd"
   ]
  },
  {
   "cell_type": "code",
   "execution_count": null,
   "id": "a807771a",
   "metadata": {
    "scrolled": true
   },
   "outputs": [],
   "source": [
    "nml.__version__"
   ]
  },
  {
   "cell_type": "code",
   "execution_count": null,
   "id": "4526776d",
   "metadata": {
    "scrolled": false
   },
   "outputs": [],
   "source": [
    "reference, analysis, analysis_target = nml.load_synthetic_sample()\n",
    "data = pd.concat([reference, analysis], ignore_index=True)\n",
    "print(reference.head().to_markdown(tablefmt=\"grid\"))"
   ]
  },
  {
   "cell_type": "code",
   "execution_count": null,
   "id": "344270ab",
   "metadata": {
    "scrolled": true
   },
   "outputs": [],
   "source": [
    "print(analysis.tail().to_markdown(tablefmt=\"grid\"))"
   ]
  },
  {
   "cell_type": "code",
   "execution_count": null,
   "id": "c6144503",
   "metadata": {
    "scrolled": true
   },
   "outputs": [],
   "source": [
    "# Let's use a chunk size of 5000\n",
    "chunk_size = 5000"
   ]
  },
  {
   "cell_type": "code",
   "execution_count": null,
   "id": "c4616d9a",
   "metadata": {
    "scrolled": true
   },
   "outputs": [],
   "source": [
    "metadata = nml.extract_metadata(data = reference, model_name='wfh_predictor')\n",
    "metadata.target_column_name = 'work_home_actual'\n",
    "metadata.print()"
   ]
  },
  {
   "cell_type": "code",
   "execution_count": null,
   "id": "9e3510db",
   "metadata": {
    "scrolled": true
   },
   "outputs": [],
   "source": [
    "# fit estimator and estimate\n",
    "estimator = nml.CBPE(model_metadata=metadata, chunk_size=chunk_size)\n",
    "estimator.fit(reference_data=reference)\n",
    "estimated_performance = estimator.estimate(data=data)"
   ]
  },
  {
   "cell_type": "code",
   "execution_count": null,
   "id": "ea898c18",
   "metadata": {
    "pycharm": {
     "is_executing": true
    },
    "scrolled": true
   },
   "outputs": [],
   "source": [
    "# show results\n",
    "figure = estimated_performance.plot(kind='performance')\n",
    "figure.show()\n",
    "# figure.write_image(file=f\"perf-est-guide-syth-example.svg\")"
   ]
  },
  {
   "cell_type": "code",
   "execution_count": null,
   "id": "157624c8",
   "metadata": {
    "scrolled": true
   },
   "outputs": [],
   "source": [
    "univariate_calculator = nml.UnivariateStatisticalDriftCalculator(model_metadata=metadata, chunk_size=chunk_size)"
   ]
  },
  {
   "cell_type": "code",
   "execution_count": null,
   "id": "943851b2",
   "metadata": {
    "scrolled": true
   },
   "outputs": [],
   "source": [
    "univariate_calculator.fit(reference_data=reference)"
   ]
  },
  {
   "cell_type": "code",
   "execution_count": null,
   "id": "ae9cdd0d",
   "metadata": {
    "scrolled": true
   },
   "outputs": [],
   "source": [
    "univariate_results = univariate_calculator.calculate(data=data)"
   ]
  },
  {
   "cell_type": "code",
   "execution_count": null,
   "id": "9544adfe",
   "metadata": {
    "pycharm": {
     "is_executing": true
    },
    "scrolled": false
   },
   "outputs": [],
   "source": [
    "for feature in metadata.features:\n",
    "\n",
    "    figure = univariate_results.plot(kind='feature_drift', metric='statistic', feature_label=feature.label)\n",
    "    figure.show()\n",
    "#     figure.write_image(file=f\"drift-guide-{feature.label}.svg\")"
   ]
  },
  {
   "cell_type": "code",
   "execution_count": null,
   "id": "ceec08ad",
   "metadata": {
    "pycharm": {
     "is_executing": true
    },
    "scrolled": false
   },
   "outputs": [],
   "source": [
    "for feature in metadata.features:\n",
    "\n",
    "    figure = univariate_results.plot('feature_distribution',\n",
    "        feature_label=feature.label\n",
    "    )\n",
    "    figure.show()\n",
    "#     figure.write_image(file=f\"drift-guide-joyplot-{feature.label}.svg\")"
   ]
  },
  {
   "cell_type": "code",
   "execution_count": null,
   "id": "b079a38c",
   "metadata": {
    "pycharm": {
     "is_executing": true
    },
    "scrolled": true
   },
   "outputs": [],
   "source": [
    "# see model output drift\n",
    "figure = univariate_results.plot(kind='prediction_drift', metric='statistic')\n",
    "figure.show()"
   ]
  },
  {
   "cell_type": "code",
   "execution_count": null,
   "id": "3750990e",
   "metadata": {
    "pycharm": {
     "is_executing": true
    },
    "scrolled": true
   },
   "outputs": [],
   "source": [
    "ranker = nml.Ranker.by('alert_count')\n",
    "ranked_features = ranker.rank(univariate_results, model_metadata=metadata, only_drifting = False)\n",
    "ranked_features"
   ]
  },
  {
   "cell_type": "code",
   "execution_count": null,
   "id": "d7bdc772",
   "metadata": {
    "pycharm": {
     "is_executing": true
    },
    "scrolled": true
   },
   "outputs": [],
   "source": [
    "print(ranked_features.to_markdown(tablefmt=\"grid\"))"
   ]
  },
  {
   "cell_type": "code",
   "execution_count": null,
   "id": "2d0cf3b3",
   "metadata": {
    "pycharm": {
     "is_executing": true
    },
    "scrolled": true
   },
   "outputs": [],
   "source": [
    "figure = univariate_results.plot(kind='prediction_drift', metric='statistic')\n",
    "figure.show()\n",
    "figure.write_image('drift-guide-predictions.svg')"
   ]
  },
  {
   "cell_type": "code",
   "execution_count": null,
   "id": "a04cfaa4",
   "metadata": {
    "scrolled": true
   },
   "outputs": [],
   "source": [
    "# Let's initialize the object that will perform Data Reconstruction with PCA\n",
    "# Let's use a chunk size of 5000 data points to create our drift statistics\n",
    "rcerror_calculator = nml.DataReconstructionDriftCalculator(model_metadata=metadata, chunk_size=chunk_size)"
   ]
  },
  {
   "cell_type": "code",
   "execution_count": null,
   "id": "2722ca94",
   "metadata": {
    "scrolled": true
   },
   "outputs": [],
   "source": [
    "# NannyML compares drift versus the full reference dataset.\n",
    "rcerror_calculator.fit(reference_data=reference)"
   ]
  },
  {
   "cell_type": "code",
   "execution_count": null,
   "id": "4a7605f8",
   "metadata": {
    "scrolled": true
   },
   "outputs": [],
   "source": [
    "# let's see RC error statistics for all available data\n",
    "rcerror_results = rcerror_calculator.calculate(data=data)"
   ]
  },
  {
   "cell_type": "code",
   "execution_count": null,
   "id": "406b6bcb",
   "metadata": {
    "pycharm": {
     "is_executing": true
    },
    "scrolled": true
   },
   "outputs": [],
   "source": [
    "print(rcerror_results.data.to_markdown(tablefmt=\"grid\"))"
   ]
  },
  {
   "cell_type": "code",
   "execution_count": null,
   "id": "cc7b3a9b",
   "metadata": {
    "pycharm": {
     "is_executing": true
    },
    "scrolled": true
   },
   "outputs": [],
   "source": [
    "figure = rcerror_results.plot(kind='drift')\n",
    "figure.show()\n",
    "figure.write_image(file=f\"drift-guide-multivariate.svg\")"
   ]
  },
  {
   "cell_type": "code",
   "execution_count": null,
   "id": "f17898ef",
   "metadata": {
    "scrolled": true
   },
   "outputs": [],
   "source": []
  }
 ],
 "metadata": {
  "kernelspec": {
   "display_name": "Python 3 (ipykernel)",
   "language": "python",
   "name": "python3"
  },
  "language_info": {
   "codemirror_mode": {
    "name": "ipython",
    "version": 3
   },
   "file_extension": ".py",
   "mimetype": "text/x-python",
   "name": "python",
   "nbconvert_exporter": "python",
   "pygments_lexer": "ipython3",
   "version": "3.10.2"
  }
 },
 "nbformat": 4,
 "nbformat_minor": 5
}
