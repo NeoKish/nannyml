{
 "cells": [
  {
   "cell_type": "code",
   "execution_count": 1,
   "id": "2f933365",
   "metadata": {},
   "outputs": [],
   "source": [
    "import pandas as pd\n",
    "import nannyml as nml\n",
    "reference, analysis, _ = nml.datasets.load_synthetic_sample()\n",
    "metadata = nml.extract_metadata(reference)\n",
    "metadata.target_column_name = 'work_home_actual'"
   ]
  },
  {
   "cell_type": "code",
   "execution_count": 2,
   "id": "281539e7",
   "metadata": {},
   "outputs": [
    {
     "name": "stderr",
     "output_type": "stream",
     "text": [
      "/home/niels/.cache/pypoetry/virtualenvs/nannyml-TW_t7fhL-py3.7/lib/python3.7/site-packages/pandas/core/series.py:5258: SettingWithCopyWarning: \n",
      "A value is trying to be set on a copy of a slice from a DataFrame\n",
      "\n",
      "See the caveats in the documentation: https://pandas.pydata.org/pandas-docs/stable/user_guide/indexing.html#returning-a-view-versus-a-copy\n",
      "  self._update_inplace(result)\n",
      "/home/niels/.cache/pypoetry/virtualenvs/nannyml-TW_t7fhL-py3.7/lib/python3.7/site-packages/pandas/core/series.py:5258: SettingWithCopyWarning: \n",
      "A value is trying to be set on a copy of a slice from a DataFrame\n",
      "\n",
      "See the caveats in the documentation: https://pandas.pydata.org/pandas-docs/stable/user_guide/indexing.html#returning-a-view-versus-a-copy\n",
      "  self._update_inplace(result)\n",
      "/home/niels/.cache/pypoetry/virtualenvs/nannyml-TW_t7fhL-py3.7/lib/python3.7/site-packages/pandas/core/series.py:5258: SettingWithCopyWarning: \n",
      "A value is trying to be set on a copy of a slice from a DataFrame\n",
      "\n",
      "See the caveats in the documentation: https://pandas.pydata.org/pandas-docs/stable/user_guide/indexing.html#returning-a-view-versus-a-copy\n",
      "  self._update_inplace(result)\n",
      "/home/niels/.cache/pypoetry/virtualenvs/nannyml-TW_t7fhL-py3.7/lib/python3.7/site-packages/pandas/core/series.py:5258: SettingWithCopyWarning: \n",
      "A value is trying to be set on a copy of a slice from a DataFrame\n",
      "\n",
      "See the caveats in the documentation: https://pandas.pydata.org/pandas-docs/stable/user_guide/indexing.html#returning-a-view-versus-a-copy\n",
      "  self._update_inplace(result)\n",
      "/home/niels/.cache/pypoetry/virtualenvs/nannyml-TW_t7fhL-py3.7/lib/python3.7/site-packages/pandas/core/series.py:5258: SettingWithCopyWarning: \n",
      "A value is trying to be set on a copy of a slice from a DataFrame\n",
      "\n",
      "See the caveats in the documentation: https://pandas.pydata.org/pandas-docs/stable/user_guide/indexing.html#returning-a-view-versus-a-copy\n",
      "  self._update_inplace(result)\n",
      "/home/niels/.cache/pypoetry/virtualenvs/nannyml-TW_t7fhL-py3.7/lib/python3.7/site-packages/pandas/core/series.py:5258: SettingWithCopyWarning: \n",
      "A value is trying to be set on a copy of a slice from a DataFrame\n",
      "\n",
      "See the caveats in the documentation: https://pandas.pydata.org/pandas-docs/stable/user_guide/indexing.html#returning-a-view-versus-a-copy\n",
      "  self._update_inplace(result)\n",
      "/home/niels/.cache/pypoetry/virtualenvs/nannyml-TW_t7fhL-py3.7/lib/python3.7/site-packages/pandas/core/series.py:5258: SettingWithCopyWarning: \n",
      "A value is trying to be set on a copy of a slice from a DataFrame\n",
      "\n",
      "See the caveats in the documentation: https://pandas.pydata.org/pandas-docs/stable/user_guide/indexing.html#returning-a-view-versus-a-copy\n",
      "  self._update_inplace(result)\n",
      "/home/niels/.cache/pypoetry/virtualenvs/nannyml-TW_t7fhL-py3.7/lib/python3.7/site-packages/pandas/core/series.py:5258: SettingWithCopyWarning: \n",
      "A value is trying to be set on a copy of a slice from a DataFrame\n",
      "\n",
      "See the caveats in the documentation: https://pandas.pydata.org/pandas-docs/stable/user_guide/indexing.html#returning-a-view-versus-a-copy\n",
      "  self._update_inplace(result)\n",
      "/home/niels/.cache/pypoetry/virtualenvs/nannyml-TW_t7fhL-py3.7/lib/python3.7/site-packages/pandas/core/series.py:5258: SettingWithCopyWarning: \n",
      "A value is trying to be set on a copy of a slice from a DataFrame\n",
      "\n",
      "See the caveats in the documentation: https://pandas.pydata.org/pandas-docs/stable/user_guide/indexing.html#returning-a-view-versus-a-copy\n",
      "  self._update_inplace(result)\n",
      "/home/niels/.cache/pypoetry/virtualenvs/nannyml-TW_t7fhL-py3.7/lib/python3.7/site-packages/pandas/core/series.py:5258: SettingWithCopyWarning: \n",
      "A value is trying to be set on a copy of a slice from a DataFrame\n",
      "\n",
      "See the caveats in the documentation: https://pandas.pydata.org/pandas-docs/stable/user_guide/indexing.html#returning-a-view-versus-a-copy\n",
      "  self._update_inplace(result)\n",
      "/home/niels/.cache/pypoetry/virtualenvs/nannyml-TW_t7fhL-py3.7/lib/python3.7/site-packages/pandas/core/series.py:5258: SettingWithCopyWarning: \n",
      "A value is trying to be set on a copy of a slice from a DataFrame\n",
      "\n",
      "See the caveats in the documentation: https://pandas.pydata.org/pandas-docs/stable/user_guide/indexing.html#returning-a-view-versus-a-copy\n",
      "  self._update_inplace(result)\n",
      "/home/niels/.cache/pypoetry/virtualenvs/nannyml-TW_t7fhL-py3.7/lib/python3.7/site-packages/pandas/core/series.py:5258: SettingWithCopyWarning: \n",
      "A value is trying to be set on a copy of a slice from a DataFrame\n",
      "\n",
      "See the caveats in the documentation: https://pandas.pydata.org/pandas-docs/stable/user_guide/indexing.html#returning-a-view-versus-a-copy\n",
      "  self._update_inplace(result)\n",
      "/home/niels/.cache/pypoetry/virtualenvs/nannyml-TW_t7fhL-py3.7/lib/python3.7/site-packages/pandas/core/series.py:5258: SettingWithCopyWarning: \n",
      "A value is trying to be set on a copy of a slice from a DataFrame\n",
      "\n",
      "See the caveats in the documentation: https://pandas.pydata.org/pandas-docs/stable/user_guide/indexing.html#returning-a-view-versus-a-copy\n",
      "  self._update_inplace(result)\n",
      "/home/niels/.cache/pypoetry/virtualenvs/nannyml-TW_t7fhL-py3.7/lib/python3.7/site-packages/pandas/core/series.py:5258: SettingWithCopyWarning: \n",
      "A value is trying to be set on a copy of a slice from a DataFrame\n",
      "\n",
      "See the caveats in the documentation: https://pandas.pydata.org/pandas-docs/stable/user_guide/indexing.html#returning-a-view-versus-a-copy\n",
      "  self._update_inplace(result)\n",
      "/home/niels/Code/nml/nannyml/nannyml/nannyml/chunk.py:189: UserWarning: The resulting list of chunks contains 1 underpopulated chunks. They contain too few records to be statistically robust and might negatively influence the quality of calculations. Please consider splitting your data in a different way or continue at your own risk.\n",
      "  f'The resulting list of chunks contains {len(underpopulated_chunks)} underpopulated chunks. '\n"
     ]
    },
    {
     "data": {
      "text/plain": "      key  start_index  end_index start_date                      end_date\n0  2017Q3            0       1261 2017-07-01 2017-09-30 23:59:59.999999999\n1  2017Q4         1262       4951 2017-10-01 2017-12-31 23:59:59.999999999\n2  2018Q1         4952       8702 2018-01-01 2018-03-31 23:59:59.999999999",
      "text/html": "<div>\n<style scoped>\n    .dataframe tbody tr th:only-of-type {\n        vertical-align: middle;\n    }\n\n    .dataframe tbody tr th {\n        vertical-align: top;\n    }\n\n    .dataframe thead th {\n        text-align: right;\n    }\n</style>\n<table border=\"1\" class=\"dataframe\">\n  <thead>\n    <tr style=\"text-align: right;\">\n      <th></th>\n      <th>key</th>\n      <th>start_index</th>\n      <th>end_index</th>\n      <th>start_date</th>\n      <th>end_date</th>\n    </tr>\n  </thead>\n  <tbody>\n    <tr>\n      <th>0</th>\n      <td>2017Q3</td>\n      <td>0</td>\n      <td>1261</td>\n      <td>2017-07-01</td>\n      <td>2017-09-30 23:59:59.999999999</td>\n    </tr>\n    <tr>\n      <th>1</th>\n      <td>2017Q4</td>\n      <td>1262</td>\n      <td>4951</td>\n      <td>2017-10-01</td>\n      <td>2017-12-31 23:59:59.999999999</td>\n    </tr>\n    <tr>\n      <th>2</th>\n      <td>2018Q1</td>\n      <td>4952</td>\n      <td>8702</td>\n      <td>2018-01-01</td>\n      <td>2018-03-31 23:59:59.999999999</td>\n    </tr>\n  </tbody>\n</table>\n</div>"
     },
     "execution_count": 2,
     "metadata": {},
     "output_type": "execute_result"
    }
   ],
   "source": [
    "cbpe = nml.CBPE(model_metadata=metadata, chunk_period=\"Q\")\n",
    "cbpe.fit(reference_data=reference)\n",
    "est_perf = cbpe.estimate(analysis)\n",
    "est_perf.data.iloc[:3,:5]"
   ]
  },
  {
   "cell_type": "code",
   "execution_count": 3,
   "id": "3c4c6f19",
   "metadata": {},
   "outputs": [
    {
     "data": {
      "text/plain": "            key  start_index  end_index          start_date  \\\n0      [0:3499]            0       3499 2017-08-31 04:20:00   \n1   [3500:6999]         3500       6999 2017-11-26 19:10:42   \n2  [7000:10499]         7000      10499 2018-02-18 21:07:18   \n\n             end_date  \n0 2017-11-26 18:29:06  \n1 2018-02-18 21:02:55  \n2 2018-05-14 05:11:43  ",
      "text/html": "<div>\n<style scoped>\n    .dataframe tbody tr th:only-of-type {\n        vertical-align: middle;\n    }\n\n    .dataframe tbody tr th {\n        vertical-align: top;\n    }\n\n    .dataframe thead th {\n        text-align: right;\n    }\n</style>\n<table border=\"1\" class=\"dataframe\">\n  <thead>\n    <tr style=\"text-align: right;\">\n      <th></th>\n      <th>key</th>\n      <th>start_index</th>\n      <th>end_index</th>\n      <th>start_date</th>\n      <th>end_date</th>\n    </tr>\n  </thead>\n  <tbody>\n    <tr>\n      <th>0</th>\n      <td>[0:3499]</td>\n      <td>0</td>\n      <td>3499</td>\n      <td>2017-08-31 04:20:00</td>\n      <td>2017-11-26 18:29:06</td>\n    </tr>\n    <tr>\n      <th>1</th>\n      <td>[3500:6999]</td>\n      <td>3500</td>\n      <td>6999</td>\n      <td>2017-11-26 19:10:42</td>\n      <td>2018-02-18 21:02:55</td>\n    </tr>\n    <tr>\n      <th>2</th>\n      <td>[7000:10499]</td>\n      <td>7000</td>\n      <td>10499</td>\n      <td>2018-02-18 21:07:18</td>\n      <td>2018-05-14 05:11:43</td>\n    </tr>\n  </tbody>\n</table>\n</div>"
     },
     "execution_count": 3,
     "metadata": {},
     "output_type": "execute_result"
    }
   ],
   "source": [
    "cbpe = nml.CBPE(model_metadata=metadata, chunk_size=3500)\n",
    "cbpe.fit(reference_data=reference)\n",
    "est_perf = cbpe.estimate(analysis)\n",
    "est_perf.data.iloc[:3,:5]"
   ]
  },
  {
   "cell_type": "code",
   "execution_count": 4,
   "id": "c4a42a6e",
   "metadata": {},
   "outputs": [
    {
     "data": {
      "text/plain": "              key  start_index  end_index          start_date  \\\n12  [42000:45499]        42000      45499 2020-06-18 03:38:19   \n13  [45500:48999]        45500      48999 2020-09-13 02:49:55   \n\n              end_date  \n12 2020-09-13 02:03:06  \n13 2020-12-08 05:57:22  ",
      "text/html": "<div>\n<style scoped>\n    .dataframe tbody tr th:only-of-type {\n        vertical-align: middle;\n    }\n\n    .dataframe tbody tr th {\n        vertical-align: top;\n    }\n\n    .dataframe thead th {\n        text-align: right;\n    }\n</style>\n<table border=\"1\" class=\"dataframe\">\n  <thead>\n    <tr style=\"text-align: right;\">\n      <th></th>\n      <th>key</th>\n      <th>start_index</th>\n      <th>end_index</th>\n      <th>start_date</th>\n      <th>end_date</th>\n    </tr>\n  </thead>\n  <tbody>\n    <tr>\n      <th>12</th>\n      <td>[42000:45499]</td>\n      <td>42000</td>\n      <td>45499</td>\n      <td>2020-06-18 03:38:19</td>\n      <td>2020-09-13 02:03:06</td>\n    </tr>\n    <tr>\n      <th>13</th>\n      <td>[45500:48999]</td>\n      <td>45500</td>\n      <td>48999</td>\n      <td>2020-09-13 02:49:55</td>\n      <td>2020-12-08 05:57:22</td>\n    </tr>\n  </tbody>\n</table>\n</div>"
     },
     "execution_count": 4,
     "metadata": {},
     "output_type": "execute_result"
    }
   ],
   "source": [
    "est_perf.data.iloc[-2:,:5]"
   ]
  },
  {
   "cell_type": "code",
   "execution_count": 5,
   "id": "e6446b8f",
   "metadata": {},
   "outputs": [
    {
     "data": {
      "text/plain": "49999"
     },
     "execution_count": 5,
     "metadata": {},
     "output_type": "execute_result"
    }
   ],
   "source": [
    "analysis.index.max()"
   ]
  },
  {
   "cell_type": "code",
   "execution_count": 6,
   "id": "1502a809",
   "metadata": {},
   "outputs": [
    {
     "data": {
      "text/plain": "9"
     },
     "execution_count": 6,
     "metadata": {},
     "output_type": "execute_result"
    }
   ],
   "source": [
    "cbpe = nml.CBPE(model_metadata=metadata, chunk_number=9)\n",
    "cbpe.fit(reference_data=reference)\n",
    "est_perf = cbpe.estimate(analysis)\n",
    "len(est_perf.data)"
   ]
  },
  {
   "cell_type": "code",
   "execution_count": 7,
   "id": "8a845e22",
   "metadata": {},
   "outputs": [
    {
     "data": {
      "text/plain": "             key  start_index  end_index          start_date  \\\n7  [38885:44439]        38885      44439 2020-04-03 10:50:36   \n8  [44440:49994]        44440      49994 2020-08-18 01:46:35   \n\n             end_date  \n7 2020-08-18 00:53:04  \n8 2021-01-01 02:20:18  ",
      "text/html": "<div>\n<style scoped>\n    .dataframe tbody tr th:only-of-type {\n        vertical-align: middle;\n    }\n\n    .dataframe tbody tr th {\n        vertical-align: top;\n    }\n\n    .dataframe thead th {\n        text-align: right;\n    }\n</style>\n<table border=\"1\" class=\"dataframe\">\n  <thead>\n    <tr style=\"text-align: right;\">\n      <th></th>\n      <th>key</th>\n      <th>start_index</th>\n      <th>end_index</th>\n      <th>start_date</th>\n      <th>end_date</th>\n    </tr>\n  </thead>\n  <tbody>\n    <tr>\n      <th>7</th>\n      <td>[38885:44439]</td>\n      <td>38885</td>\n      <td>44439</td>\n      <td>2020-04-03 10:50:36</td>\n      <td>2020-08-18 00:53:04</td>\n    </tr>\n    <tr>\n      <th>8</th>\n      <td>[44440:49994]</td>\n      <td>44440</td>\n      <td>49994</td>\n      <td>2020-08-18 01:46:35</td>\n      <td>2021-01-01 02:20:18</td>\n    </tr>\n  </tbody>\n</table>\n</div>"
     },
     "execution_count": 7,
     "metadata": {},
     "output_type": "execute_result"
    }
   ],
   "source": [
    "est_perf.data.iloc[-2:,:5]"
   ]
  },
  {
   "cell_type": "code",
   "execution_count": 8,
   "id": "d7a175fc",
   "metadata": {},
   "outputs": [
    {
     "data": {
      "text/plain": "49999"
     },
     "execution_count": 8,
     "metadata": {},
     "output_type": "execute_result"
    }
   ],
   "source": [
    "analysis.index.max()"
   ]
  },
  {
   "cell_type": "code",
   "execution_count": 9,
   "id": "9a777cc9",
   "metadata": {},
   "outputs": [
    {
     "data": {
      "text/plain": "           key  start_index  end_index          start_date            end_date\n0      [0:899]            0        899 2014-05-09 22:27:20 2014-06-01 10:39:23\n1   [900:1799]          900       1799 2014-06-01 11:05:45 2014-06-23 09:10:21\n2  [1800:2699]         1800       2699 2014-06-23 10:35:42 2014-07-15 17:09:14",
      "text/html": "<div>\n<style scoped>\n    .dataframe tbody tr th:only-of-type {\n        vertical-align: middle;\n    }\n\n    .dataframe tbody tr th {\n        vertical-align: top;\n    }\n\n    .dataframe thead th {\n        text-align: right;\n    }\n</style>\n<table border=\"1\" class=\"dataframe\">\n  <thead>\n    <tr style=\"text-align: right;\">\n      <th></th>\n      <th>key</th>\n      <th>start_index</th>\n      <th>end_index</th>\n      <th>start_date</th>\n      <th>end_date</th>\n    </tr>\n  </thead>\n  <tbody>\n    <tr>\n      <th>0</th>\n      <td>[0:899]</td>\n      <td>0</td>\n      <td>899</td>\n      <td>2014-05-09 22:27:20</td>\n      <td>2014-06-01 10:39:23</td>\n    </tr>\n    <tr>\n      <th>1</th>\n      <td>[900:1799]</td>\n      <td>900</td>\n      <td>1799</td>\n      <td>2014-06-01 11:05:45</td>\n      <td>2014-06-23 09:10:21</td>\n    </tr>\n    <tr>\n      <th>2</th>\n      <td>[1800:2699]</td>\n      <td>1800</td>\n      <td>2699</td>\n      <td>2014-06-23 10:35:42</td>\n      <td>2014-07-15 17:09:14</td>\n    </tr>\n  </tbody>\n</table>\n</div>"
     },
     "execution_count": 9,
     "metadata": {},
     "output_type": "execute_result"
    }
   ],
   "source": [
    "cbpe = nml.CBPE(model_metadata=metadata)\n",
    "cbpe.fit(reference_data=reference)\n",
    "est_perf = cbpe.estimate(pd.concat([reference, analysis]))\n",
    "est_perf.data.iloc[:3,:5]"
   ]
  },
  {
   "cell_type": "code",
   "execution_count": 10,
   "id": "b33c9f5e",
   "metadata": {},
   "outputs": [],
   "source": [
    "cbpe = nml.CBPE(model_metadata=metadata, chunk_size=5_000)\n",
    "cbpe.fit(reference_data=reference)\n",
    "est_perf = cbpe.estimate(analysis)"
   ]
  },
  {
   "cell_type": "code",
   "execution_count": 13,
   "id": "8317372c",
   "metadata": {},
   "outputs": [
    {
     "ename": "IndexError",
     "evalue": "index 0 is out of bounds for axis 0 with size 0",
     "output_type": "error",
     "traceback": [
      "\u001B[0;31m---------------------------------------------------------------------------\u001B[0m",
      "\u001B[0;31mIndexError\u001B[0m                                Traceback (most recent call last)",
      "\u001B[0;32m/tmp/ipykernel_56766/3651583372.py\u001B[0m in \u001B[0;36m<module>\u001B[0;34m\u001B[0m\n\u001B[0;32m----> 1\u001B[0;31m \u001B[0mfig\u001B[0m \u001B[0;34m=\u001B[0m \u001B[0mest_perf\u001B[0m\u001B[0;34m.\u001B[0m\u001B[0mplot\u001B[0m\u001B[0;34m(\u001B[0m\u001B[0mkind\u001B[0m\u001B[0;34m=\u001B[0m\u001B[0;34m'performance'\u001B[0m\u001B[0;34m)\u001B[0m\u001B[0;34m\u001B[0m\u001B[0;34m\u001B[0m\u001B[0m\n\u001B[0m\u001B[1;32m      2\u001B[0m \u001B[0mfig\u001B[0m\u001B[0;34m.\u001B[0m\u001B[0mwrite_image\u001B[0m\u001B[0;34m(\u001B[0m\u001B[0mfile\u001B[0m\u001B[0;34m=\u001B[0m\u001B[0;34m\"../_static/guide-chunking_your_data-pe_plot.svg\"\u001B[0m\u001B[0;34m,\u001B[0m \u001B[0mengine\u001B[0m\u001B[0;34m=\u001B[0m\u001B[0;34m\"kaleido\"\u001B[0m\u001B[0;34m)\u001B[0m\u001B[0;34m\u001B[0m\u001B[0;34m\u001B[0m\u001B[0m\n",
      "\u001B[0;32m~/Code/nml/nannyml/nannyml/nannyml/performance_estimation/confidence_based/results.py\u001B[0m in \u001B[0;36mplot\u001B[0;34m(self, kind, *args, **kwargs)\u001B[0m\n\u001B[1;32m     35\u001B[0m         \"\"\"\n\u001B[1;32m     36\u001B[0m         \u001B[0;32mif\u001B[0m \u001B[0mkind\u001B[0m \u001B[0;34m==\u001B[0m \u001B[0;34m'performance'\u001B[0m\u001B[0;34m:\u001B[0m\u001B[0;34m\u001B[0m\u001B[0;34m\u001B[0m\u001B[0m\n\u001B[0;32m---> 37\u001B[0;31m             \u001B[0;32mreturn\u001B[0m \u001B[0m_plot_cbpe_performance_estimation\u001B[0m\u001B[0;34m(\u001B[0m\u001B[0mself\u001B[0m\u001B[0;34m.\u001B[0m\u001B[0mdata\u001B[0m\u001B[0;34m)\u001B[0m\u001B[0;34m\u001B[0m\u001B[0;34m\u001B[0m\u001B[0m\n\u001B[0m\u001B[1;32m     38\u001B[0m         \u001B[0;32melse\u001B[0m\u001B[0;34m:\u001B[0m\u001B[0;34m\u001B[0m\u001B[0;34m\u001B[0m\u001B[0m\n\u001B[1;32m     39\u001B[0m             \u001B[0;32mraise\u001B[0m \u001B[0mInvalidArgumentsException\u001B[0m\u001B[0;34m(\u001B[0m\u001B[0;34mf\"unknown plot kind '{kind}'. \"\u001B[0m \u001B[0;34mf\"Please provide on of: ['performance'].\"\u001B[0m\u001B[0;34m)\u001B[0m\u001B[0;34m\u001B[0m\u001B[0;34m\u001B[0m\u001B[0m\n",
      "\u001B[0;32m~/Code/nml/nannyml/nannyml/nannyml/performance_estimation/confidence_based/results.py\u001B[0m in \u001B[0;36m_plot_cbpe_performance_estimation\u001B[0;34m(estimation_results)\u001B[0m\n\u001B[1;32m     90\u001B[0m         \u001B[0mv_line_separating_analysis_period\u001B[0m\u001B[0;34m=\u001B[0m\u001B[0mplot_partition_separator\u001B[0m\u001B[0;34m,\u001B[0m\u001B[0;34m\u001B[0m\u001B[0;34m\u001B[0m\u001B[0m\n\u001B[1;32m     91\u001B[0m         \u001B[0mestimated_column_name\u001B[0m\u001B[0;34m=\u001B[0m\u001B[0;34m'estimated'\u001B[0m\u001B[0;34m,\u001B[0m\u001B[0;34m\u001B[0m\u001B[0;34m\u001B[0m\u001B[0m\n\u001B[0;32m---> 92\u001B[0;31m         \u001B[0mconfidence_column_name\u001B[0m\u001B[0;34m=\u001B[0m\u001B[0;34m'confidence'\u001B[0m\u001B[0;34m,\u001B[0m\u001B[0;34m\u001B[0m\u001B[0;34m\u001B[0m\u001B[0m\n\u001B[0m\u001B[1;32m     93\u001B[0m     )\n\u001B[1;32m     94\u001B[0m \u001B[0;34m\u001B[0m\u001B[0m\n",
      "\u001B[0;32m~/Code/nml/nannyml/nannyml/nannyml/plots/_step_plot.py\u001B[0m in \u001B[0;36m_step_plot\u001B[0;34m(table, metric_column_name, estimated_column_name, confidence_column_name, threshold_column_name, statistically_significant_column_name, drift_column_name, partial_target_column_name, chunk_column_name, start_date_column_name, end_date_column_name, chunk_type_column_name, chunk_types, confidence_legend_label, threshold_legend_label, statistically_significant_legend_label, drift_legend_label, chunk_legend_labels, partial_target_legend_label, hover_marker_labels, hover_labels, hover_date_label_format, hover_metric_format, threshold_value_format, v_line_separating_analysis_period, figure, title, x_axis_title, y_axis_title, y_axis_lim, alpha, colors)\u001B[0m\n\u001B[1;32m    190\u001B[0m         \u001B[0mstart_date_column_name\u001B[0m\u001B[0;34m,\u001B[0m\u001B[0;34m\u001B[0m\u001B[0;34m\u001B[0m\u001B[0m\n\u001B[1;32m    191\u001B[0m         \u001B[0mend_date_column_name\u001B[0m\u001B[0;34m,\u001B[0m\u001B[0;34m\u001B[0m\u001B[0;34m\u001B[0m\u001B[0m\n\u001B[0;32m--> 192\u001B[0;31m         \u001B[0mpartial_target_column_name\u001B[0m\u001B[0;34m,\u001B[0m\u001B[0;34m\u001B[0m\u001B[0;34m\u001B[0m\u001B[0m\n\u001B[0m\u001B[1;32m    193\u001B[0m     )\n\u001B[1;32m    194\u001B[0m \u001B[0;34m\u001B[0m\u001B[0m\n",
      "\u001B[0;32m~/Code/nml/nannyml/nannyml/nannyml/plots/_step_plot.py\u001B[0m in \u001B[0;36m_plot_metric\u001B[0;34m(fig, data, colors, metric_column_name, estimated_column_name, chunk_legend_labels, chunk_type_column_name, chunk_types, start_date_column_name, end_date_column_name, partial_target_column_name)\u001B[0m\n\u001B[1;32m    351\u001B[0m         \u001B[0mdash\u001B[0m \u001B[0;34m=\u001B[0m \u001B[0;32mNone\u001B[0m\u001B[0;34m\u001B[0m\u001B[0;34m\u001B[0m\u001B[0m\n\u001B[1;32m    352\u001B[0m         \u001B[0;32mif\u001B[0m \u001B[0mestimated_column_name\u001B[0m \u001B[0;32mand\u001B[0m \u001B[0mestimated_column_name\u001B[0m \u001B[0;32min\u001B[0m \u001B[0mdata\u001B[0m\u001B[0;34m.\u001B[0m\u001B[0mcolumns\u001B[0m\u001B[0;34m:\u001B[0m\u001B[0;34m\u001B[0m\u001B[0;34m\u001B[0m\u001B[0m\n\u001B[0;32m--> 353\u001B[0;31m             \u001B[0;32mif\u001B[0m \u001B[0mdata_subset\u001B[0m\u001B[0;34m[\u001B[0m\u001B[0mestimated_column_name\u001B[0m\u001B[0;34m]\u001B[0m\u001B[0;34m.\u001B[0m\u001B[0mhead\u001B[0m\u001B[0;34m(\u001B[0m\u001B[0;36m1\u001B[0m\u001B[0;34m)\u001B[0m\u001B[0;34m.\u001B[0m\u001B[0mvalues\u001B[0m\u001B[0;34m[\u001B[0m\u001B[0;36m0\u001B[0m\u001B[0;34m]\u001B[0m\u001B[0;34m:\u001B[0m\u001B[0;34m\u001B[0m\u001B[0;34m\u001B[0m\u001B[0m\n\u001B[0m\u001B[1;32m    354\u001B[0m                 \u001B[0mdash\u001B[0m \u001B[0;34m=\u001B[0m \u001B[0;34m'dot'\u001B[0m\u001B[0;34m\u001B[0m\u001B[0;34m\u001B[0m\u001B[0m\n\u001B[1;32m    355\u001B[0m         fig.add_trace(\n",
      "\u001B[0;31mIndexError\u001B[0m: index 0 is out of bounds for axis 0 with size 0"
     ]
    }
   ],
   "source": [
    "fig = est_perf.plot(kind='performance')\n",
    "fig.write_image(file=\"../_static/guide-chunking_your_data-pe_plot.svg\", engine=\"kaleido\")"
   ]
  },
  {
   "cell_type": "code",
   "execution_count": 14,
   "outputs": [
    {
     "data": {
      "text/plain": "             key  start_index  end_index          start_date  \\\n0       [0:4999]            0       4999 2017-08-31 04:20:00   \n1    [5000:9999]         5000       9999 2018-01-02 01:13:11   \n2  [10000:14999]        10000      14999 2018-05-01 14:25:25   \n3  [15000:19999]        15000      19999 2018-09-01 16:19:07   \n4  [20000:24999]        20000      24999 2018-12-31 10:38:45   \n5  [25000:29999]        25000      29999 2019-04-30 11:02:00   \n6  [30000:34999]        30000      34999 2019-09-01 00:28:54   \n7  [35000:39999]        35000      39999 2019-12-31 10:07:15   \n8  [40000:44999]        40000      44999 2020-04-30 12:04:32   \n9  [45000:49999]        45000      49999 2020-09-01 02:46:13   \n\n             end_date partition  realized_roc_auc  estimated_roc_auc  \\\n0 2018-01-02 00:45:44  analysis               NaN           0.968631   \n1 2018-05-01 13:10:10  analysis               NaN           0.969044   \n2 2018-09-01 15:40:40  analysis               NaN           0.969444   \n3 2018-12-31 10:11:21  analysis               NaN           0.969047   \n4 2019-04-30 11:01:30  analysis               NaN           0.968873   \n5 2019-09-01 00:24:27  analysis               NaN           0.960478   \n6 2019-12-31 09:09:12  analysis               NaN           0.961134   \n7 2020-04-30 11:46:53  analysis               NaN           0.960536   \n8 2020-09-01 02:46:02  analysis               NaN           0.961869   \n9 2021-01-01 04:29:32  analysis               NaN           0.960537   \n\n   confidence  upper_threshold  lower_threshold  alert  \n0    0.000358          0.97866         0.963317  False  \n1    0.000358          0.97866         0.963317  False  \n2    0.000358          0.97866         0.963317  False  \n3    0.000358          0.97866         0.963317  False  \n4    0.000358          0.97866         0.963317  False  \n5    0.000358          0.97866         0.963317   True  \n6    0.000358          0.97866         0.963317   True  \n7    0.000358          0.97866         0.963317   True  \n8    0.000358          0.97866         0.963317   True  \n9    0.000358          0.97866         0.963317   True  ",
      "text/html": "<div>\n<style scoped>\n    .dataframe tbody tr th:only-of-type {\n        vertical-align: middle;\n    }\n\n    .dataframe tbody tr th {\n        vertical-align: top;\n    }\n\n    .dataframe thead th {\n        text-align: right;\n    }\n</style>\n<table border=\"1\" class=\"dataframe\">\n  <thead>\n    <tr style=\"text-align: right;\">\n      <th></th>\n      <th>key</th>\n      <th>start_index</th>\n      <th>end_index</th>\n      <th>start_date</th>\n      <th>end_date</th>\n      <th>partition</th>\n      <th>realized_roc_auc</th>\n      <th>estimated_roc_auc</th>\n      <th>confidence</th>\n      <th>upper_threshold</th>\n      <th>lower_threshold</th>\n      <th>alert</th>\n    </tr>\n  </thead>\n  <tbody>\n    <tr>\n      <th>0</th>\n      <td>[0:4999]</td>\n      <td>0</td>\n      <td>4999</td>\n      <td>2017-08-31 04:20:00</td>\n      <td>2018-01-02 00:45:44</td>\n      <td>analysis</td>\n      <td>NaN</td>\n      <td>0.968631</td>\n      <td>0.000358</td>\n      <td>0.97866</td>\n      <td>0.963317</td>\n      <td>False</td>\n    </tr>\n    <tr>\n      <th>1</th>\n      <td>[5000:9999]</td>\n      <td>5000</td>\n      <td>9999</td>\n      <td>2018-01-02 01:13:11</td>\n      <td>2018-05-01 13:10:10</td>\n      <td>analysis</td>\n      <td>NaN</td>\n      <td>0.969044</td>\n      <td>0.000358</td>\n      <td>0.97866</td>\n      <td>0.963317</td>\n      <td>False</td>\n    </tr>\n    <tr>\n      <th>2</th>\n      <td>[10000:14999]</td>\n      <td>10000</td>\n      <td>14999</td>\n      <td>2018-05-01 14:25:25</td>\n      <td>2018-09-01 15:40:40</td>\n      <td>analysis</td>\n      <td>NaN</td>\n      <td>0.969444</td>\n      <td>0.000358</td>\n      <td>0.97866</td>\n      <td>0.963317</td>\n      <td>False</td>\n    </tr>\n    <tr>\n      <th>3</th>\n      <td>[15000:19999]</td>\n      <td>15000</td>\n      <td>19999</td>\n      <td>2018-09-01 16:19:07</td>\n      <td>2018-12-31 10:11:21</td>\n      <td>analysis</td>\n      <td>NaN</td>\n      <td>0.969047</td>\n      <td>0.000358</td>\n      <td>0.97866</td>\n      <td>0.963317</td>\n      <td>False</td>\n    </tr>\n    <tr>\n      <th>4</th>\n      <td>[20000:24999]</td>\n      <td>20000</td>\n      <td>24999</td>\n      <td>2018-12-31 10:38:45</td>\n      <td>2019-04-30 11:01:30</td>\n      <td>analysis</td>\n      <td>NaN</td>\n      <td>0.968873</td>\n      <td>0.000358</td>\n      <td>0.97866</td>\n      <td>0.963317</td>\n      <td>False</td>\n    </tr>\n    <tr>\n      <th>5</th>\n      <td>[25000:29999]</td>\n      <td>25000</td>\n      <td>29999</td>\n      <td>2019-04-30 11:02:00</td>\n      <td>2019-09-01 00:24:27</td>\n      <td>analysis</td>\n      <td>NaN</td>\n      <td>0.960478</td>\n      <td>0.000358</td>\n      <td>0.97866</td>\n      <td>0.963317</td>\n      <td>True</td>\n    </tr>\n    <tr>\n      <th>6</th>\n      <td>[30000:34999]</td>\n      <td>30000</td>\n      <td>34999</td>\n      <td>2019-09-01 00:28:54</td>\n      <td>2019-12-31 09:09:12</td>\n      <td>analysis</td>\n      <td>NaN</td>\n      <td>0.961134</td>\n      <td>0.000358</td>\n      <td>0.97866</td>\n      <td>0.963317</td>\n      <td>True</td>\n    </tr>\n    <tr>\n      <th>7</th>\n      <td>[35000:39999]</td>\n      <td>35000</td>\n      <td>39999</td>\n      <td>2019-12-31 10:07:15</td>\n      <td>2020-04-30 11:46:53</td>\n      <td>analysis</td>\n      <td>NaN</td>\n      <td>0.960536</td>\n      <td>0.000358</td>\n      <td>0.97866</td>\n      <td>0.963317</td>\n      <td>True</td>\n    </tr>\n    <tr>\n      <th>8</th>\n      <td>[40000:44999]</td>\n      <td>40000</td>\n      <td>44999</td>\n      <td>2020-04-30 12:04:32</td>\n      <td>2020-09-01 02:46:02</td>\n      <td>analysis</td>\n      <td>NaN</td>\n      <td>0.961869</td>\n      <td>0.000358</td>\n      <td>0.97866</td>\n      <td>0.963317</td>\n      <td>True</td>\n    </tr>\n    <tr>\n      <th>9</th>\n      <td>[45000:49999]</td>\n      <td>45000</td>\n      <td>49999</td>\n      <td>2020-09-01 02:46:13</td>\n      <td>2021-01-01 04:29:32</td>\n      <td>analysis</td>\n      <td>NaN</td>\n      <td>0.960537</td>\n      <td>0.000358</td>\n      <td>0.97866</td>\n      <td>0.963317</td>\n      <td>True</td>\n    </tr>\n  </tbody>\n</table>\n</div>"
     },
     "execution_count": 14,
     "metadata": {},
     "output_type": "execute_result"
    }
   ],
   "source": [
    "est_perf.data"
   ],
   "metadata": {
    "collapsed": false,
    "pycharm": {
     "name": "#%%\n"
    }
   }
  },
  {
   "cell_type": "code",
   "execution_count": null,
   "id": "c2b91d4b",
   "metadata": {},
   "outputs": [],
   "source": []
  }
 ],
 "metadata": {
  "kernelspec": {
   "display_name": "Python 3 (ipykernel)",
   "language": "python",
   "name": "python3"
  },
  "language_info": {
   "codemirror_mode": {
    "name": "ipython",
    "version": 3
   },
   "file_extension": ".py",
   "mimetype": "text/x-python",
   "name": "python",
   "nbconvert_exporter": "python",
   "pygments_lexer": "ipython3",
   "version": "3.7.10"
  }
 },
 "nbformat": 4,
 "nbformat_minor": 5
}
