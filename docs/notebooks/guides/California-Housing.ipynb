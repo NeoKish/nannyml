{
 "cells": [
  {
   "cell_type": "markdown",
   "id": "c518bf65",
   "metadata": {},
   "source": [
    "# California Housing Prices\n",
    "\n",
    "Using the California Housing prices dataset to create a sample dataset for the NannyML library.\n",
    "\n",
    "## Enriching data\n",
    "\n",
    "We want to change the data to add context related for our use case. This includes:\n",
    "\n",
    "- A time aspect\n",
    "- Partitioning the data\n",
    "- Specifying a target to make the problem a classification problem"
   ]
  },
  {
   "cell_type": "code",
   "execution_count": null,
   "id": "5fa603f8",
   "metadata": {},
   "outputs": [],
   "source": [
    "import pandas as pd\n",
    "import numpy as np\n",
    "import datetime as dt\n",
    "\n",
    "from sklearn.datasets import fetch_california_housing\n",
    "from sklearn.ensemble import RandomForestClassifier\n",
    "from sklearn.metrics import roc_auc_score"
   ]
  },
  {
   "cell_type": "code",
   "execution_count": null,
   "id": "7af57c10",
   "metadata": {},
   "outputs": [],
   "source": [
    "# Get the data\n",
    "cali = fetch_california_housing(as_frame=True)\n",
    "df = pd.concat([cali.data, cali.target], axis=1)\n",
    "df.head(2)"
   ]
  },
  {
   "cell_type": "code",
   "execution_count": null,
   "id": "f1dbb483",
   "metadata": {},
   "outputs": [],
   "source": [
    "# add artificiacl timestamp\n",
    "timestamps = [dt.datetime(2020,1,1) + dt.timedelta(hours=x) for x in df.index]\n",
    "df['timestamp'] = timestamps\n",
    "\n",
    "# add partitions\n",
    "train_beg = dt.datetime(2020,1,1)\n",
    "train_end = dt.datetime(2020,10,1)\n",
    "test_beg = dt.datetime(2020,10,1)\n",
    "test_end = dt.datetime(2021,6,1)\n",
    "df.loc[df['timestamp'].between(train_beg, train_end, inclusive='left'), 'partition'] = 'train'\n",
    "df.loc[df['timestamp'].between(test_beg, test_end, inclusive='left'), 'partition'] = 'test'\n",
    "df['partition'] = df['partition'].fillna('production')"
   ]
  },
  {
   "cell_type": "code",
   "execution_count": null,
   "id": "12b8dea9",
   "metadata": {},
   "outputs": [],
   "source": [
    "# create new classification target - house value higher than mean\n",
    "df_train = df[df['partition']=='train']\n",
    "\n",
    "df['clf_target'] = np.where(df['MedHouseVal'] > df_train['MedHouseVal'].median(), 1, 0)\n",
    "df = df.drop('MedHouseVal', axis=1)\n",
    "\n",
    "del df_train"
   ]
  },
  {
   "cell_type": "code",
   "execution_count": null,
   "id": "80c7f0e5",
   "metadata": {},
   "outputs": [],
   "source": [
    "df['partition'].value_counts()"
   ]
  },
  {
   "cell_type": "code",
   "execution_count": null,
   "id": "71f6ae9a",
   "metadata": {},
   "outputs": [],
   "source": [
    "df.groupby('partition')['timestamp'].max()"
   ]
  },
  {
   "cell_type": "code",
   "execution_count": null,
   "id": "2dfd8dbd",
   "metadata": {},
   "outputs": [],
   "source": [
    "df.tail()"
   ]
  },
  {
   "cell_type": "markdown",
   "id": "30a2d02b",
   "metadata": {},
   "source": [
    "## Adding a model\n",
    "\n",
    "This is the model that we will want to monitor."
   ]
  },
  {
   "cell_type": "code",
   "execution_count": null,
   "id": "484b90d2",
   "metadata": {},
   "outputs": [],
   "source": [
    "# fit classifier\n",
    "target = 'clf_target'\n",
    "meta = 'partition'\n",
    "features = ['MedInc', 'HouseAge', 'AveRooms', 'AveBedrms', 'Population', 'AveOccup', 'Latitude', 'Longitude']\n",
    "\n",
    "\n",
    "df_train = df[df['partition']=='train']\n",
    "\n",
    "clf = RandomForestClassifier(random_state=42)\n",
    "clf.fit(df_train[features], df_train[target])\n",
    "df['y_pred_proba'] = clf.predict_proba(df[features])[:,1]"
   ]
  },
  {
   "cell_type": "code",
   "execution_count": null,
   "id": "79376c8b",
   "metadata": {},
   "outputs": [],
   "source": [
    "# Check roc auc scores\n",
    "for partition_name, partition_data in df.groupby('partition', sort=False):\n",
    "    print(partition_name, roc_auc_score(partition_data[target], partition_data['y_pred_proba']))"
   ]
  },
  {
   "cell_type": "code",
   "execution_count": null,
   "id": "76d436df",
   "metadata": {},
   "outputs": [],
   "source": [
    "df.y_pred_proba.plot.kde()"
   ]
  },
  {
   "cell_type": "markdown",
   "id": "583da35e",
   "metadata": {},
   "source": [
    "## Prepare data for NannyML"
   ]
  },
  {
   "cell_type": "code",
   "execution_count": null,
   "id": "1d62af81",
   "metadata": {},
   "outputs": [],
   "source": [
    "df_for_nanny = df[df['partition']!='train'].reset_index(drop=True)\n",
    "df_for_nanny['partition'] = df_for_nanny['partition'].map({'test':'reference', 'production':'analysis'})\n",
    "df_for_nanny['identifier'] = df_for_nanny.index"
   ]
  },
  {
   "cell_type": "code",
   "execution_count": null,
   "id": "75a8e07d",
   "metadata": {},
   "outputs": [],
   "source": [
    "df_ref = df_for_nanny[df_for_nanny['partition']=='reference'].copy()\n",
    "df_ana = df_for_nanny[df_for_nanny['partition']=='analysis'].copy()\n",
    "df_gt = df_ana[['identifier', 'clf_target']].copy()\n",
    "df_ana = df_ana.drop('clf_target', axis=1)"
   ]
  },
  {
   "cell_type": "code",
   "execution_count": null,
   "id": "50403115",
   "metadata": {},
   "outputs": [],
   "source": [
    "df_ref"
   ]
  },
  {
   "cell_type": "code",
   "execution_count": null,
   "id": "2ab11e2e",
   "metadata": {},
   "outputs": [],
   "source": [
    "df_ref.to_csv(\"california_housing_reference.csv\", index=False)\n",
    "df_ana.to_csv(\"california_housing_analysis.csv\", index=False)\n",
    "df_gt.to_csv(\"california_housing_analysis_gt.csv\", index=False)"
   ]
  },
  {
   "cell_type": "code",
   "execution_count": null,
   "id": "d35ce972",
   "metadata": {},
   "outputs": [],
   "source": []
  }
 ],
 "metadata": {
  "kernelspec": {
   "display_name": "Python 3 (ipykernel)",
   "language": "python",
   "name": "python3"
  },
  "language_info": {
   "codemirror_mode": {
    "name": "ipython",
    "version": 3
   },
   "file_extension": ".py",
   "mimetype": "text/x-python",
   "name": "python",
   "nbconvert_exporter": "python",
   "pygments_lexer": "ipython3",
   "version": "3.7.10"
  }
 },
 "nbformat": 4,
 "nbformat_minor": 5
}
